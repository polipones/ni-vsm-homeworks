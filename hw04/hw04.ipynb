{
 "cells": [
  {
   "cell_type": "markdown",
   "metadata": {
    "pycharm": {
     "name": "#%% md\n"
    }
   },
   "source": [
    "# Domácí úkol 4\n",
    "## Popis problému\n",
    "\n",
    "Uvažujte model hromadné obsluhy $M|G|\\infty$.\n",
    "\n",
    "* Požadavky přichází podle Poissonova procesu s intenzitou $\\lambda = 10~\\mathrm{s}^{-1}$.\n",
    "* Doba obsluhy jednoho požadavku (v sekundách) má rozdělení $S\\sim\\mathrm{Ga}(4,2)$, tj. Gamma s parametry $a = 4$, $p = 2$.\n",
    "* Časy mezi příchody a časy obsluhy jsou nezávislé.\n",
    "* Systém má (teoreticky) nekonečně paralelních obslužných míst (každý příchozí je rovnou obsluhován).\n",
    "\n",
    "Označme $N_t$ počet zákazníků v systému v čase $t$. Předpokládejme, že na začátku je systém prázdný, tj. $N_0 = 0$.\n",
    "\n",
    "## 1. Simulujte jednu trajektorii $N_t(\\omega) \\mid t\\in(0,10~\\mathrm{s})$. Průběh trajektorie graficky znázorněte.\n",
    "\n",
    "Jelikož požadavky přichází podle Poissonova procesu $\\text{Poisson}(\\lambda)$, tak si nejprve vygenerujeme pomocí numpy funkce počet zákazníků, kteří by mohli přijít v zadaném časovém intervalu. Tuto hodnotu označme $n$.\n",
    "\n",
    "Víme-li, že během intervalu $(0, 10)$ přišlo právě $n$ zákazníků, pak podmíněné rozdělení časů příchodu Poissonova procesu je stejné, jako by si těchto $n$ zákazníků vybralo čas příchodu rovnoměrně (víme z přednášky). Proto si s pomocí rovnoměrného rozdělení $\\text{Unif}(0, 10)$ vygenerujeme $n$ časů příchodu zákazníků. Časy odchodu zákazníků získáme pro každého zákazníka tak, že k jeho času příchodu přičteme hodnotu získanou z Gamma rozdělení se zadanými parametry. Obě skupiny časů seřadíme vzestupně a napočítáme počty zákazníků v závislosti na čase.\n",
    "\n",
    "Výsledné časy a počty zákazníků je pak možné pozorovat na grafu níže (graf jedné možné trajektorie)."
   ]
  },
  {
   "cell_type": "code",
   "execution_count": 109,
   "metadata": {},
   "outputs": [],
   "source": [
    "import matplotlib.pyplot as plt\n",
    "import numpy as np\n",
    "import math\n",
    "\n",
    "plt.rcParams['figure.figsize'] = [15, 8]\n",
    "plt.style.use('seaborn-darkgrid')\n",
    "rng = np.random.default_rng()"
   ]
  },
  {
   "cell_type": "code",
   "execution_count": 110,
   "metadata": {
    "pycharm": {
     "name": "#%%\n"
    },
    "scrolled": false
   },
   "outputs": [
    {
     "data": {
      "image/png": "[encoded data removed]",
      "text/plain": [
       "<Figure size 1080x576 with 1 Axes>"
      ]
     },
     "metadata": {},
     "output_type": "display_data"
    }
   ],
   "source": [
    "def plot_trajectory(customers: list[tuple[float, int]], time: int):\n",
    "    plt.xlabel('Čas')\n",
    "    plt.ylabel('Trajektorie')\n",
    "    plt.step([c[0] for c in customers], [c[1] for c in customers], where='post')\n",
    "    plt.xticks(range(0, time + 1))\n",
    "    plt.xlim(0, time)\n",
    "    plt.ylim(0)\n",
    "    plt.title('Trajektorie', fontsize=14)\n",
    "    plt.show()\n",
    "\n",
    "\n",
    "def simulate_trajectory(lam: int, a: int, p: int, time: int, plot: bool = True):\n",
    "    n = rng.poisson(lam * time)\n",
    "    arrival_times = rng.uniform(0, time, n)\n",
    "    arrival_times.sort()\n",
    "\n",
    "    gamma_d = rng.gamma(p, 1 / a, n)\n",
    "    depart_times = arrival_times + gamma_d\n",
    "    depart_times.sort()\n",
    "\n",
    "    customers = [(0.0, 0)]\n",
    "    c_count = 0\n",
    "\n",
    "    arr_i = 0\n",
    "    dep_i = 0\n",
    "    while arr_i < n or dep_i < n:\n",
    "        if arr_i < n and dep_i < n:\n",
    "            if arrival_times[arr_i] < depart_times[dep_i]:\n",
    "                c_count += 1\n",
    "                customers.append((arrival_times[arr_i], c_count))\n",
    "                arr_i += 1\n",
    "            elif arrival_times[arr_i] > depart_times[dep_i]:\n",
    "                c_count -= 1\n",
    "                customers.append((depart_times[dep_i], c_count))\n",
    "                dep_i += 1\n",
    "            else:\n",
    "                arr_i += 1\n",
    "                dep_i += 1\n",
    "        elif arr_i < n:\n",
    "            c_count += 1\n",
    "            customers.append((arrival_times[arr_i], c_count))\n",
    "            arr_i += 1\n",
    "        else:\n",
    "            c_count -= 1\n",
    "            customers.append((depart_times[dep_i], c_count))\n",
    "            dep_i += 1\n",
    "\n",
    "    if plot:\n",
    "        plot_trajectory(customers, time)\n",
    "\n",
    "    return customers\n",
    "\n",
    "\n",
    "_ = simulate_trajectory(10, 4, 2, 10)"
   ]
  },
  {
   "cell_type": "markdown",
   "metadata": {},
   "source": [
    "## 2. Simulujte $n = 500$ nezávislých trajektorií pro $t\\in(0,100)$. Na základě těchto simulací odhadněte rozdělení náhodné veličiny $N_{100}$.\n",
    "\n",
    "Simulace trajektorií probíhá stejně jako je popsáno výše s rozdílem, že se nyní jedná o časový interval $(0,100)$.\n",
    "\n",
    "Z celé simulace nás však nyní zajímá pouze počet zákazníků v čase $t = 100$ (pro 500 simulací). Rozdělení počtu zákazníků je znázorněno pomocí histogramu níže."
   ]
  },
  {
   "cell_type": "code",
   "execution_count": 111,
   "metadata": {
    "pycharm": {
     "name": "#%%\n"
    }
   },
   "outputs": [
    {
     "data": {
      "image/png": "[encoded data removed]",
      "text/plain": [
       "<Figure size 1080x576 with 1 Axes>"
      ]
     },
     "metadata": {},
     "output_type": "display_data"
    },
    {
     "name": "stdout",
     "output_type": "stream",
     "text": [
      "Výběrový průměr: 4.978 , výběrový rozptyl: 5.225516\n"
     ]
    }
   ],
   "source": [
    "def get_customer_count(customers: list[tuple[float, int]], time: float):\n",
    "    for i, tup in enumerate(customers):\n",
    "        if tup[0] > time:\n",
    "            return customers[i - 1][1]\n",
    "\n",
    "    return 0\n",
    "\n",
    "\n",
    "N = 500\n",
    "time = 100\n",
    "n_100 = [get_customer_count(simulate_trajectory(10, 4, 2, time, False), time) for _ in range(N)]\n",
    "\n",
    "n_100_mean = np.mean(n_100)\n",
    "n_100_var = np.var(n_100)\n",
    "\n",
    "plt.hist(n_100, bins=max(n_100), density=True)\n",
    "# Highlight mean value\n",
    "plt.axvspan(xmin=n_100_mean, xmax=n_100_mean, color='red', alpha=0.5)\n",
    "plt.show()\n",
    "\n",
    "print('Výběrový průměr: {} , výběrový rozptyl: {}'.format(n_100_mean, n_100_var))"
   ]
  },
  {
   "cell_type": "markdown",
   "metadata": {
    "pycharm": {
     "name": "#%% md\n"
    }
   },
   "source": [
    "### Porovnání výsledku s Poissonovým rozdělením v grafu\n",
    "\n",
    "Jelikož zákazníci přichází podle Poissonova rozdělení, tak i počet zákazníků v čase $t = 100$ by měl mít Poissonovo rozdělení. Toto tvrzení se pokusíme potvrdit pomocí porovnání histogramů získaného rozdělení (modře) a Poissonova rozdělení (oranžově)."
   ]
  },
  {
   "cell_type": "code",
   "execution_count": 112,
   "metadata": {
    "pycharm": {
     "name": "#%%\n"
    },
    "scrolled": false
   },
   "outputs": [
    {
     "data": {
      "image/png": "[encoded data removed]",
      "text/plain": [
       "<Figure size 1080x576 with 1 Axes>"
      ]
     },
     "metadata": {},
     "output_type": "display_data"
    }
   ],
   "source": [
    "def poisson(l, k):\n",
    "    return ((l ** k) * (math.e ** -l)) / math.factorial(k)\n",
    "\n",
    "\n",
    "_ = plt.hist(n_100, bins=max(n_100), density=True)\n",
    "_ = plt.bar(range(max(n_100)), [poisson(n_100_mean, k) for k in range(max(n_100))], width=1, alpha=0.5, align='edge',\n",
    "            color='orange')"
   ]
  },
  {
   "cell_type": "markdown",
   "metadata": {},
   "source": [
    "Je vidět, že oba histogramy jsou si velice podobné.\n",
    "\n",
    "## 3. Diskutujte, jaké je limitní rozdělení tohoto systému pro $t\\to+\\infty$ (vizte [*přednášku 23*](https://courses.fit.cvut.cz/NI-VSM/lectures/files/NI-VSM-Lec-23-Slides.pdf).). Pomocí vhodného testu otestujte na hladině významnosti $5~\\%$, zda výsledky simulace $N_{100}$ odpovídají tomuto rozdělení.\n",
    "\n",
    "Tento bod úkoly jsme se rozhodli již vynechat."
   ]
  }
 ],
 "metadata": {
  "kernelspec": {
   "display_name": "Python 3",
   "language": "python",
   "name": "python3"
  },
  "language_info": {
   "codemirror_mode": {
    "name": "ipython",
    "version": 3
   },
   "file_extension": ".py",
   "mimetype": "text/x-python",
   "name": "python",
   "nbconvert_exporter": "python",
   "pygments_lexer": "ipython3",
   "version": "3.9.1"
  }
 },
 "nbformat": 4,
 "nbformat_minor": 1
}
