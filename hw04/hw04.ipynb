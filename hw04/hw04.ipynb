{
 "cells": [
  {
   "cell_type": "code",
   "execution_count": 65,
   "metadata": {
    "collapsed": true,
    "pycharm": {
     "name": "#%%\n"
    }
   },
   "outputs": [],
   "source": [
    "import matplotlib.pyplot as plt\n",
    "import numpy as np\n",
    "plt.rcParams['figure.figsize'] = [15, 8]\n",
    "plt.style.use('seaborn-darkgrid')\n",
    "rng = np.random.default_rng()"
   ]
  },
  {
   "cell_type": "markdown",
   "metadata": {
    "pycharm": {
     "name": "#%% md\n"
    }
   },
   "source": [
    "# Domácí úkol 4\n",
    "\n",
    "## Popis problému\n",
    "\n",
    "Uvažujte model hromadné obsluhy $M|G|\\infty$.\n",
    "\n",
    "* Požadavky přichází podle Poissonova procesu s intenzitou $\\lambda = 10~\\mathrm{s}^{-1}$.\n",
    "* Doba obsluhy jednoho požadavku (v sekundách) má rozdělení $S\\sim\\mathrm{Ga}(4,2)$, tj. Gamma s parametry $a = 4$, $p = 2$.\n",
    "* Časy mezi příchody a časy obsluhy jsou nezávislé.\n",
    "* Systém má (teoreticky) nekonečně paralelních obslužných míst (každý příchozí je rovnou obsluhován).\n",
    "\n",
    "Označme $N_t$ počet zákazníků v systému v čase $t$. Předpokládejme, že na začátku je systém prázdný, tj. $N_0 = 0$.\n",
    "\n",
    "## 1. Simulujte jednu trajektorii $\\{N_t(\\omega) \\mid t\\in(0,10~\\mathrm{s})\\}$. Průběh trajektorie graficky znázorněte."
   ]
  },
  {
   "cell_type": "code",
   "execution_count": 66,
   "metadata": {
    "pycharm": {
     "name": "#%%\n"
    },
    "scrolled": false
   },
   "outputs": [
    {
     "data": {
      "text/plain": "<Figure size 1080x576 with 1 Axes>",
      "image/png": "[encoded data removed]"
     },
     "metadata": {},
     "output_type": "display_data"
    }
   ],
   "source": [
    "def plot_trajectory(customers: list[tuple[float, int]], time: int):\n",
    "    plt.xlabel('Time')\n",
    "    plt.ylabel('Trajectory')\n",
    "    plt.step([c[0] for c in customers], [c[1] for c in customers], where='post')\n",
    "    plt.xticks(range(0, time + 1))\n",
    "    plt.xlim(0, time)\n",
    "    plt.ylim(0)\n",
    "    plt.title('Trajectory', fontsize=14)\n",
    "    plt.show()\n",
    "\n",
    "def simulate_trajectory(lam: int, a: int, p: int, time: int, plot: bool = True):\n",
    "    n = rng.poisson(lam*time)\n",
    "    arrival_times = rng.uniform(0, time, n)\n",
    "    arrival_times.sort()\n",
    "\n",
    "    gamma_d = rng.gamma(p, 1/a, n)\n",
    "    depart_times = arrival_times + gamma_d\n",
    "    depart_times.sort()\n",
    "\n",
    "    # print('Num of customers: {}\\narrival times: {}\\ndepart times: {}'.format(n, arrival_times, depart_times))\n",
    "    # print()\n",
    "\n",
    "    customers = [(0.0, 0)]\n",
    "    c_count = 0\n",
    "\n",
    "    arr_i = 0\n",
    "    dep_i = 0\n",
    "    while arr_i < n or dep_i < n:\n",
    "        if arr_i < n and dep_i < n:\n",
    "            if arrival_times[arr_i] < depart_times[dep_i]:\n",
    "                c_count += 1\n",
    "                customers.append((arrival_times[arr_i], c_count))\n",
    "                arr_i += 1\n",
    "            elif arrival_times[arr_i] > depart_times[dep_i]:\n",
    "                c_count -= 1\n",
    "                customers.append((depart_times[dep_i], c_count))\n",
    "                dep_i += 1\n",
    "            else:\n",
    "                arr_i += 1\n",
    "                dep_i += 1\n",
    "        elif arr_i < n:\n",
    "            c_count += 1\n",
    "            customers.append((arrival_times[arr_i], c_count))\n",
    "            arr_i += 1\n",
    "        else:\n",
    "            c_count -= 1\n",
    "            customers.append((depart_times[dep_i], c_count))\n",
    "            dep_i += 1\n",
    "\n",
    "    # print()\n",
    "    # print(customers)\n",
    "\n",
    "    if plot:\n",
    "        plot_trajectory(customers, time)\n",
    "\n",
    "    return customers\n",
    "\n",
    "\n",
    "x = simulate_trajectory(10, 4, 2, 10)"
   ]
  },
  {
   "cell_type": "markdown",
   "metadata": {},
   "source": [
    "## 2. Simulujte $n = 500$ nezávislých trajektorií pro $t\\in(0,100)$. Na základě těchto simulací odhadněte rozdělení náhodné veličiny $N_{100}$."
   ]
  },
  {
   "cell_type": "code",
   "execution_count": 67,
   "metadata": {
    "pycharm": {
     "name": "#%%\n"
    }
   },
   "outputs": [
    {
     "data": {
      "text/plain": "<Figure size 1080x576 with 1 Axes>",
      "image/png": "[encoded data removed]"
     },
     "metadata": {},
     "output_type": "display_data"
    },
    {
     "name": "stdout",
     "output_type": "stream",
     "text": [
      "Průměr: 5.088 , rozptyl: 4.908256\n"
     ]
    }
   ],
   "source": [
    "def get_customer_count(customers: list[tuple[float, int]], time: float):\n",
    "    for i, tup in enumerate(customers):\n",
    "        if tup[0] > time:\n",
    "            return customers[i - 1][1]\n",
    "\n",
    "    return 0\n",
    "\n",
    "N = 500\n",
    "time = 100\n",
    "n_100 = [get_customer_count(simulate_trajectory(10, 4, 2, time, False), time) for _ in range(N)]\n",
    "\n",
    "n_100_mean = np.mean(n_100)\n",
    "n_100_var = np.var(n_100)\n",
    "\n",
    "plt.hist(n_100, bins=max(n_100), density=True)\n",
    "# Highlight mean value\n",
    "plt.axvspan(xmin=n_100_mean, xmax=n_100_mean, color='red', alpha=0.5)\n",
    "plt.show()\n",
    "\n",
    "print('Průměr: {} , rozptyl: {}'.format(n_100_mean, n_100_var))"
   ]
  },
  {
   "cell_type": "markdown",
   "metadata": {},
   "source": [
    "## 3. Diskutujte, jaké je limitní rozdělení tohoto systému pro $t\\to+\\infty$ (vizte [*přednášku 23*](https://courses.fit.cvut.cz/NI-VSM/lectures/files/NI-VSM-Lec-23-Slides.pdf).). Pomocí vhodného testu otestujte na hladině významnosti $5~\\%$, zda výsledky simulace $N_{100}$ odpovídají tomuto rozdělení."
   ]
  }
 ],
 "metadata": {
  "kernelspec": {
   "display_name": "Python 3",
   "language": "python",
   "name": "python3"
  },
  "language_info": {
   "codemirror_mode": {
    "name": "ipython",
    "version": 3
   },
   "file_extension": ".py",
   "mimetype": "text/x-python",
   "name": "python",
   "nbconvert_exporter": "python",
   "pygments_lexer": "ipython3",
   "version": "3.9.2"
  }
 },
 "nbformat": 4,
 "nbformat_minor": 1
}